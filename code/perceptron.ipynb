{
 "cells": [
  {
   "cell_type": "markdown",
   "id": "16d2e448",
   "metadata": {},
   "source": [
    "# 퍼셉트론"
   ]
  },
  {
   "cell_type": "code",
   "execution_count": 8,
   "id": "63b25ed0",
   "metadata": {},
   "outputs": [],
   "source": [
    "def perceptron(s1, s2):\n",
    "    # signal in {0, 1}\n",
    "    w1 = 0.3\n",
    "    w2 = 0.7\n",
    "    theta = 0.5\n",
    "    y = w1*s1 + w2*s2\n",
    "    \n",
    "    if y > theta:\n",
    "        return 1\n",
    "    else:\n",
    "        return 0"
   ]
  },
  {
   "cell_type": "markdown",
   "id": "8c829922",
   "metadata": {},
   "source": [
    "# 논리회로"
   ]
  },
  {
   "cell_type": "markdown",
   "id": "1f3c8883",
   "metadata": {},
   "source": [
    "## AND 게이트\n",
    "\n",
    "![AND 게이트](https://t1.daumcdn.net/cfile/tistory/9927773359C6054730)"
   ]
  },
  {
   "cell_type": "code",
   "execution_count": 26,
   "id": "efb5afda",
   "metadata": {},
   "outputs": [],
   "source": [
    "def AND(x1, x2):\n",
    "    # signal in {0, 1}\n",
    "    w1 = 0.5\n",
    "    w2 = 0.5\n",
    "    b = -0.5\n",
    "    \n",
    "    y = w1*x1 + w2*x2 + b\n",
    "    \n",
    "    if y >= 0:\n",
    "        return 1\n",
    "    else:\n",
    "        return 0"
   ]
  },
  {
   "cell_type": "code",
   "execution_count": 27,
   "id": "e1e7108b",
   "metadata": {},
   "outputs": [
    {
     "name": "stdout",
     "output_type": "stream",
     "text": [
      "0\n",
      "1\n",
      "1\n",
      "1\n"
     ]
    }
   ],
   "source": [
    "print(AND(0, 0))\n",
    "print(AND(1, 0))\n",
    "print(AND(0, 1))\n",
    "print(AND(1, 1))"
   ]
  },
  {
   "cell_type": "markdown",
   "id": "67d65412",
   "metadata": {},
   "source": [
    "## OR 게이트"
   ]
  },
  {
   "cell_type": "code",
   "execution_count": 22,
   "id": "f65785a2",
   "metadata": {},
   "outputs": [],
   "source": [
    "def OR(x1, x2):\n",
    "    # signal in {0, 1}\n",
    "    w1 = 0.5\n",
    "    w2 = 0.5\n",
    "    theta = 0.4\n",
    "\n",
    "    y = w1*x1 + w2*x2\n",
    "    if y > theta:\n",
    "        return 1\n",
    "    else:\n",
    "        return 0"
   ]
  },
  {
   "cell_type": "code",
   "execution_count": 23,
   "id": "67d1422f",
   "metadata": {},
   "outputs": [
    {
     "name": "stdout",
     "output_type": "stream",
     "text": [
      "0\n",
      "1\n",
      "1\n",
      "1\n"
     ]
    }
   ],
   "source": [
    "print(OR(0, 0))\n",
    "print(OR(1, 0))\n",
    "print(OR(0, 1))\n",
    "print(OR(1, 1))"
   ]
  },
  {
   "cell_type": "code",
   "execution_count": 24,
   "id": "8449c2d7",
   "metadata": {},
   "outputs": [],
   "source": [
    "def NAND(x1, x2):\n",
    "    # signal in {0, 1}\n",
    "    w1 = -0.5\n",
    "    w2 = -0.5\n",
    "    theta = -0.7\n",
    "\n",
    "    y = w1*x1 + w2*x2\n",
    "    if y > theta:\n",
    "        return 1\n",
    "    else:\n",
    "        return 0"
   ]
  },
  {
   "cell_type": "code",
   "execution_count": 25,
   "id": "9d9a9fdf",
   "metadata": {},
   "outputs": [
    {
     "name": "stdout",
     "output_type": "stream",
     "text": [
      "1\n",
      "1\n",
      "1\n",
      "0\n"
     ]
    }
   ],
   "source": [
    "print(NAND(0, 0))  # lable: 1\n",
    "print(NAND(1, 0))  # label: 1\n",
    "print(NAND(0, 1))\n",
    "print(NAND(1, 1))"
   ]
  },
  {
   "cell_type": "markdown",
   "id": "1f59dd34",
   "metadata": {},
   "source": [
    "# XOR\n",
    "\n",
    "![XOR](https://miro.medium.com/max/394/0*xsUuc9E3fPPm96AZ)"
   ]
  },
  {
   "cell_type": "code",
   "execution_count": 28,
   "id": "6147f6a2",
   "metadata": {},
   "outputs": [],
   "source": [
    "def XOR(x1, x2):\n",
    "    # signal in {0, 1}\n",
    "    w1    = -0.5\n",
    "    w2    = -0.5\n",
    "    b     = -0.7\n",
    "\n",
    "    y = w1*x1 + w2*x2 + b\n",
    "    if y >= 0:\n",
    "        return 1\n",
    "    else:\n",
    "        return 0"
   ]
  },
  {
   "cell_type": "code",
   "execution_count": null,
   "id": "711704b0",
   "metadata": {},
   "outputs": [],
   "source": []
  }
 ],
 "metadata": {
  "kernelspec": {
   "display_name": "Python 3 (ipykernel)",
   "language": "python",
   "name": "python3"
  },
  "language_info": {
   "codemirror_mode": {
    "name": "ipython",
    "version": 3
   },
   "file_extension": ".py",
   "mimetype": "text/x-python",
   "name": "python",
   "nbconvert_exporter": "python",
   "pygments_lexer": "ipython3",
   "version": "3.9.7"
  }
 },
 "nbformat": 4,
 "nbformat_minor": 5
}
