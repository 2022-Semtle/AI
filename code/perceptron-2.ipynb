{
 "cells": [
  {
   "cell_type": "code",
   "execution_count": 13,
   "id": "efb5afda",
   "metadata": {},
   "outputs": [],
   "source": [
    "def AND(x1, x2):\n",
    "    # signal in {0, 1}\n",
    "    w1 = 0.5\n",
    "    w2 = 0.5\n",
    "    b = -0.7\n",
    "    \n",
    "    y = w1*x1 + w2*x2 + b\n",
    "    \n",
    "    if y > 0:\n",
    "        return 1\n",
    "    else:\n",
    "        return 0"
   ]
  },
  {
   "cell_type": "code",
   "execution_count": 14,
   "id": "f65785a2",
   "metadata": {},
   "outputs": [],
   "source": [
    "def OR(x1, x2):\n",
    "    # signal in {0, 1}\n",
    "    w1 = 0.5\n",
    "    w2 = 0.5\n",
    "    theta = -0.2\n",
    "\n",
    "    y = w1*x1 + w2*x2 + theta\n",
    "    if y > 0:\n",
    "        return 1\n",
    "    else:\n",
    "        return 0"
   ]
  },
  {
   "cell_type": "code",
   "execution_count": 15,
   "id": "8449c2d7",
   "metadata": {},
   "outputs": [],
   "source": [
    "def NAND(x1, x2):\n",
    "    # signal in {0, 1}\n",
    "    w1 = -0.5\n",
    "    w2 = -0.5\n",
    "    theta = 0.7\n",
    "\n",
    "    y = w1*x1 + w2*x2 + theta\n",
    "    if y > 0:\n",
    "        return 1\n",
    "    else:\n",
    "        return 0"
   ]
  },
  {
   "cell_type": "markdown",
   "id": "1f59dd34",
   "metadata": {},
   "source": [
    "# XOR\n",
    "\n",
    "![XOR](https://miro.medium.com/max/394/0*xsUuc9E3fPPm96AZ)"
   ]
  },
  {
   "cell_type": "code",
   "execution_count": 16,
   "id": "6147f6a2",
   "metadata": {},
   "outputs": [],
   "source": [
    "def XOR(x1, x2):\n",
    "    s1 = NAND(x1, x2)\n",
    "    s2 = OR(x1, x2)\n",
    "    return AND(s1, s2)"
   ]
  },
  {
   "cell_type": "code",
   "execution_count": 17,
   "id": "711704b0",
   "metadata": {},
   "outputs": [
    {
     "name": "stdout",
     "output_type": "stream",
     "text": [
      "0\n",
      "1\n",
      "1\n",
      "0\n"
     ]
    }
   ],
   "source": [
    "print(XOR(0, 0))\n",
    "print(XOR(1, 0))\n",
    "print(XOR(0, 1))\n",
    "print(XOR(1, 1))"
   ]
  },
  {
   "cell_type": "markdown",
   "id": "9b816779",
   "metadata": {},
   "source": [
    "# Activatoin Function"
   ]
  },
  {
   "cell_type": "code",
   "execution_count": 19,
   "id": "6ccaa18f",
   "metadata": {},
   "outputs": [],
   "source": [
    "def step_function(a):\n",
    "    if a > 0:\n",
    "        return 1\n",
    "    else:\n",
    "        return 0\n",
    "\n",
    "def Perceptron(x1, x2):\n",
    "    w1 = 0.5\n",
    "    w2 = 0.5\n",
    "    b = 0.7\n",
    "    \n",
    "    a = w1*x1 + w2*x2 + b\n",
    "    \n",
    "    return step_function(a)"
   ]
  },
  {
   "cell_type": "code",
   "execution_count": 20,
   "id": "2fb6387c",
   "metadata": {},
   "outputs": [
    {
     "data": {
      "text/plain": [
       "1"
      ]
     },
     "execution_count": 20,
     "metadata": {},
     "output_type": "execute_result"
    }
   ],
   "source": [
    "Perceptron(0.3, 0.7)"
   ]
  },
  {
   "cell_type": "code",
   "execution_count": 31,
   "id": "af46cfe4",
   "metadata": {},
   "outputs": [],
   "source": [
    "import math"
   ]
  },
  {
   "cell_type": "code",
   "execution_count": 32,
   "id": "a12bf73c",
   "metadata": {},
   "outputs": [],
   "source": [
    "def sigmoid(x):\n",
    "    return 1 / (1 + math.e**(-x))"
   ]
  },
  {
   "cell_type": "code",
   "execution_count": 40,
   "id": "050038db",
   "metadata": {
    "scrolled": true
   },
   "outputs": [
    {
     "name": "stdout",
     "output_type": "stream",
     "text": [
      "[-5.0, -4.75, -4.5, -4.25, -4.0, -3.75, -3.5, -3.25, -3.0, -2.75, -2.5, -2.25, -2.0, -1.75, -1.5, -1.25, -1.0, -0.75, -0.5, -0.25, 0.0, 0.25, 0.5, 0.75, 1.0, 1.25, 1.5, 1.75, 2.0, 2.25, 2.5, 2.75, 3.0, 3.25, 3.5, 3.75, 4.0, 4.25, 4.5, 4.75]\n"
     ]
    }
   ],
   "source": [
    "xs = []\n",
    "for index in range(-100, 100, 5):\n",
    "    xs.append(index / 20)\n",
    "print(xs)"
   ]
  },
  {
   "cell_type": "code",
   "execution_count": 41,
   "id": "305d8289",
   "metadata": {
    "scrolled": true
   },
   "outputs": [
    {
     "name": "stdout",
     "output_type": "stream",
     "text": [
      "[3.7200759760208555e-44, 5.521082277028561e-42, 8.194012623990555e-40, 1.216099299252831e-37, 1.8048513878454228e-35, 2.6786369618080884e-33, 3.975449735908662e-31, 5.900090541597082e-29, 8.756510762696549e-27, 1.2995814250075068e-24, 1.928749847963923e-22, 2.8625185805494e-20, 4.248354255291598e-18, 6.305116760146997e-16, 9.357622968839314e-14, 1.3887943864771165e-11, 2.061153618190206e-09, 3.05902226925625e-07, 4.539786870243442e-05, 0.006692850924284857, 0.5, 0.9933071490757153, 0.9999546021312976, 0.999999694097773, 0.9999999979388463, 0.999999999986112, 0.9999999999999065, 0.9999999999999993, 1.0, 1.0, 1.0, 1.0, 1.0, 1.0, 1.0, 1.0, 1.0, 1.0, 1.0, 1.0]\n"
     ]
    }
   ],
   "source": [
    "ys = []\n",
    "for index in range(-100, 100)"
   ]
  },
  {
   "cell_type": "code",
   "execution_count": 42,
   "id": "c445bdd2",
   "metadata": {},
   "outputs": [
    {
     "data": {
      "text/plain": [
       "[<matplotlib.lines.Line2D at 0x1e2bdee9ee0>]"
      ]
     },
     "execution_count": 42,
     "metadata": {},
     "output_type": "execute_result"
    },
    {
     "data": {
      "image/png": "[encoded data removed]",
      "text/plain": [
       "<Figure size 432x288 with 1 Axes>"
      ]
     },
     "metadata": {
      "needs_background": "light"
     },
     "output_type": "display_data"
    }
   ],
   "source": [
    "import matplotlib.pyplot as plt\n",
    "\n",
    "fig, ax = plt.subplots()\n",
    "ax.set_ylim(-0.1, 1.1)\n",
    "ax.plot(xs, ys)"
   ]
  }
 ],
 "metadata": {
  "kernelspec": {
   "display_name": "Python 3 (ipykernel)",
   "language": "python",
   "name": "python3"
  },
  "language_info": {
   "codemirror_mode": {
    "name": "ipython",
    "version": 3
   },
   "file_extension": ".py",
   "mimetype": "text/x-python",
   "name": "python",
   "nbconvert_exporter": "python",
   "pygments_lexer": "ipython3",
   "version": "3.9.7"
  }
 },
 "nbformat": 4,
 "nbformat_minor": 5
}
