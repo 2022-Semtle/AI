{
 "cells": [
  {
   "cell_type": "code",
   "execution_count": 1,
   "id": "b041edf7",
   "metadata": {},
   "outputs": [],
   "source": [
    "import numpy as np"
   ]
  },
  {
   "cell_type": "code",
   "execution_count": 2,
   "id": "3a358d87",
   "metadata": {},
   "outputs": [],
   "source": [
    "class perceptron:\n",
    "    def __init__(self, w1, w2, bias, activation=True):\n",
    "        self.w1 = w1\n",
    "        self.w2 = w2\n",
    "        self.bias = bias\n",
    "        self.activation = activation\n",
    "        \n",
    "    def __call__(self, x1, x2):\n",
    "        y = x1*self.w1 + x2*self.w2 + self.bias\n",
    "        if self.activation:\n",
    "            # step function\n",
    "            if y > 0:\n",
    "                return 1\n",
    "            else:\n",
    "                return 0\n",
    "        else:\n",
    "            return y"
   ]
  },
  {
   "cell_type": "code",
   "execution_count": 3,
   "id": "c3a6c29f",
   "metadata": {},
   "outputs": [],
   "source": [
    "x1 = -0.7\n",
    "x2 = 0.3"
   ]
  },
  {
   "cell_type": "code",
   "execution_count": 4,
   "id": "e779ad5f",
   "metadata": {},
   "outputs": [],
   "source": [
    "perceptron1 = perceptron(-0.1, 0.2, 0.3)\n",
    "perceptron2 = perceptron(0.3, -0.1, -0.1)\n",
    "perceptron3 = perceptron(0.2, 0.7, -0.3)"
   ]
  },
  {
   "cell_type": "code",
   "execution_count": 5,
   "id": "38d9bb8b",
   "metadata": {},
   "outputs": [
    {
     "name": "stdout",
     "output_type": "stream",
     "text": [
      "일반 연산: 1 0 0\n"
     ]
    }
   ],
   "source": [
    "a1 = perceptron1(x1, x2)\n",
    "a2 = perceptron2(x1, x2)\n",
    "a3 = perceptron2(x1, x2)\n",
    "print('일반 연산:', a1, a2, a3)"
   ]
  },
  {
   "cell_type": "code",
   "execution_count": 6,
   "id": "25cac70a",
   "metadata": {},
   "outputs": [],
   "source": [
    "X = np.array([-0.7, 0.3])"
   ]
  },
  {
   "cell_type": "code",
   "execution_count": 13,
   "id": "a31b8699",
   "metadata": {},
   "outputs": [
    {
     "data": {
      "text/plain": [
       "(2,)"
      ]
     },
     "execution_count": 13,
     "metadata": {},
     "output_type": "execute_result"
    }
   ],
   "source": [
    "X.shape"
   ]
  },
  {
   "cell_type": "code",
   "execution_count": 8,
   "id": "d3caafe7",
   "metadata": {},
   "outputs": [],
   "source": [
    "W = np.array([[-0.1, 0.3, 0.2], [0.2, -0.1, 0.7]])"
   ]
  },
  {
   "cell_type": "code",
   "execution_count": 12,
   "id": "c5cd4fbf",
   "metadata": {},
   "outputs": [
    {
     "data": {
      "text/plain": [
       "(2, 3)"
      ]
     },
     "execution_count": 12,
     "metadata": {},
     "output_type": "execute_result"
    }
   ],
   "source": [
    "W.shape"
   ]
  },
  {
   "cell_type": "code",
   "execution_count": 10,
   "id": "f8c19de6",
   "metadata": {},
   "outputs": [],
   "source": [
    "B = np.array([0.3, -0.1, -0.3])"
   ]
  },
  {
   "cell_type": "code",
   "execution_count": 14,
   "id": "c087a3a5",
   "metadata": {},
   "outputs": [
    {
     "data": {
      "text/plain": [
       "(3,)"
      ]
     },
     "execution_count": 14,
     "metadata": {},
     "output_type": "execute_result"
    }
   ],
   "source": [
    "B.shape"
   ]
  },
  {
   "cell_type": "code",
   "execution_count": 15,
   "id": "0d909cac",
   "metadata": {},
   "outputs": [
    {
     "data": {
      "text/plain": [
       "array([ 0.43, -0.34, -0.23])"
      ]
     },
     "execution_count": 15,
     "metadata": {},
     "output_type": "execute_result"
    }
   ],
   "source": [
    "X@W + B"
   ]
  },
  {
   "cell_type": "code",
   "execution_count": 16,
   "id": "60f318a6",
   "metadata": {},
   "outputs": [],
   "source": [
    "def step_function(x):\n",
    "    y = x > 0\n",
    "    return y.astype(np.int64)"
   ]
  },
  {
   "cell_type": "code",
   "execution_count": 17,
   "id": "91de5625",
   "metadata": {},
   "outputs": [
    {
     "data": {
      "text/plain": [
       "array([1, 0, 0], dtype=int64)"
      ]
     },
     "execution_count": 17,
     "metadata": {},
     "output_type": "execute_result"
    }
   ],
   "source": [
    "step_function(X@W + B)"
   ]
  },
  {
   "cell_type": "markdown",
   "id": "25e1b0d2",
   "metadata": {},
   "source": [
    "# 복잡한 네트워크 구현"
   ]
  },
  {
   "cell_type": "code",
   "execution_count": 25,
   "id": "78e42fb1",
   "metadata": {},
   "outputs": [],
   "source": [
    "def sigmoid(x):\n",
    "    return 1 / (1 + np.exp(-x))"
   ]
  },
  {
   "cell_type": "code",
   "execution_count": 32,
   "id": "a5c28e18",
   "metadata": {},
   "outputs": [],
   "source": [
    "def identity_function(x):\n",
    "    return x"
   ]
  },
  {
   "cell_type": "code",
   "execution_count": 19,
   "id": "4b171ff1",
   "metadata": {},
   "outputs": [
    {
     "name": "stdout",
     "output_type": "stream",
     "text": [
      "[1.  0.5] (2,)\n"
     ]
    }
   ],
   "source": [
    "X = np.array([1.0, 0.5]) # 1행 2열\n",
    "print(X, X.shape)"
   ]
  },
  {
   "cell_type": "code",
   "execution_count": 23,
   "id": "8ccfaa14",
   "metadata": {},
   "outputs": [
    {
     "name": "stdout",
     "output_type": "stream",
     "text": [
      "[[0.1 0.3 0.5]\n",
      " [0.2 0.4 0.6]] (2, 3)\n"
     ]
    }
   ],
   "source": [
    "W1 = np.array([[0.1, 0.3, 0.5],\n",
    "              [0.2, 0.4, 0.6]])\n",
    "print(W1, W1.shape)"
   ]
  },
  {
   "cell_type": "code",
   "execution_count": 24,
   "id": "e211e283",
   "metadata": {},
   "outputs": [
    {
     "name": "stdout",
     "output_type": "stream",
     "text": [
      "[0.1 0.2 0.3] (3,)\n"
     ]
    }
   ],
   "source": [
    "B1 = np.array([0.1, 0.2, 0.3])\n",
    "print(B1, B1.shape)"
   ]
  },
  {
   "cell_type": "code",
   "execution_count": 27,
   "id": "afafd583",
   "metadata": {},
   "outputs": [
    {
     "name": "stdout",
     "output_type": "stream",
     "text": [
      "[0.3 0.7 1.1] (3,)\n"
     ]
    }
   ],
   "source": [
    "Z1 = X@W1 + B1\n",
    "print(Z1, Z1.shape)"
   ]
  },
  {
   "cell_type": "code",
   "execution_count": 28,
   "id": "2176e2fb",
   "metadata": {},
   "outputs": [
    {
     "name": "stdout",
     "output_type": "stream",
     "text": [
      "[0.57444252 0.66818777 0.75026011] (3,)\n"
     ]
    }
   ],
   "source": [
    "A1 = sigmoid(Z1)\n",
    "print(A1, A1.shape)"
   ]
  },
  {
   "cell_type": "code",
   "execution_count": 29,
   "id": "33b26897",
   "metadata": {},
   "outputs": [
    {
     "name": "stdout",
     "output_type": "stream",
     "text": [
      "[[0.1 0.4]\n",
      " [0.2 0.5]\n",
      " [0.3 0.6]] (3, 2)\n"
     ]
    }
   ],
   "source": [
    "W2 = np.array([[0.1, 0.4],\n",
    "               [0.2, 0.5],\n",
    "               [0.3, 0.6]])\n",
    "print(W2, W2.shape)"
   ]
  },
  {
   "cell_type": "code",
   "execution_count": 30,
   "id": "1965feef",
   "metadata": {},
   "outputs": [
    {
     "name": "stdout",
     "output_type": "stream",
     "text": [
      "[0.1 0.2] (2,)\n"
     ]
    }
   ],
   "source": [
    "B2 = np.array([0.1, 0.2])\n",
    "print(B2, B2.shape)"
   ]
  },
  {
   "cell_type": "code",
   "execution_count": 31,
   "id": "8e7c28c1",
   "metadata": {},
   "outputs": [
    {
     "name": "stdout",
     "output_type": "stream",
     "text": [
      "[0.62624937 0.7710107 ] (2,)\n"
     ]
    }
   ],
   "source": [
    "Z2 = A1@W2 + B2\n",
    "A2 = sigmoid(Z2)\n",
    "print(A2, A2.shape)"
   ]
  },
  {
   "cell_type": "code",
   "execution_count": 33,
   "id": "4533cb92",
   "metadata": {},
   "outputs": [
    {
     "name": "stdout",
     "output_type": "stream",
     "text": [
      "[[0.1 0.3]\n",
      " [0.2 0.4]] [0.1 0.2]\n"
     ]
    }
   ],
   "source": [
    "W3 = np.array([[0.1, 0.3],\n",
    "               [0.2, 0.4]])\n",
    "B3 = np.array([0.1, 0.2])\n",
    "print(W3, B3)"
   ]
  },
  {
   "cell_type": "code",
   "execution_count": 34,
   "id": "2fe9b457",
   "metadata": {},
   "outputs": [],
   "source": [
    "Z3 = A2@W3 + B3\n",
    "Y  = identity_function(Z3)"
   ]
  },
  {
   "cell_type": "code",
   "execution_count": 35,
   "id": "7c49e7f8",
   "metadata": {},
   "outputs": [
    {
     "name": "stdout",
     "output_type": "stream",
     "text": [
      "[0.31682708 0.69627909]\n"
     ]
    }
   ],
   "source": [
    "print(Y)"
   ]
  },
  {
   "cell_type": "markdown",
   "id": "b88fe5c6",
   "metadata": {},
   "source": [
    "# 함수화"
   ]
  },
  {
   "cell_type": "code",
   "execution_count": 36,
   "id": "20a9448a",
   "metadata": {},
   "outputs": [],
   "source": [
    "def init_network():\n",
    "    network = {}\n",
    "    network['W1'] = np.array([[0.1, 0.3, 0.5],[0.2, 0.4, 0.6]])\n",
    "    network['B1'] = np.array([0.1, 0.2, 0.3])\n",
    "    network['W2'] = np.array([[0.1, 0.4],[0.2, 0.5],[0.3, 0.6]])\n",
    "    network['B2'] = np.array([0.1, 0.2])\n",
    "    network['W3'] = np.array([[0.1, 0.3],[0.2, 0.4]])\n",
    "    network['B3'] = np.array([0.1, 0.2])\n",
    "    return network"
   ]
  },
  {
   "cell_type": "code",
   "execution_count": 41,
   "id": "4fa7e237",
   "metadata": {},
   "outputs": [],
   "source": [
    "def forward(network, x):\n",
    "    Z1 = sigmoid(x@network['W1'] + network['B1'])\n",
    "    Z2 = sigmoid(Z1@network['W2'] + network['B2'])\n",
    "    Y  = identity_function(Z2@network['W3'] + network['B3'])\n",
    "    return Y"
   ]
  },
  {
   "cell_type": "code",
   "execution_count": 42,
   "id": "bc1c54d0",
   "metadata": {},
   "outputs": [],
   "source": [
    "network = init_network()"
   ]
  },
  {
   "cell_type": "code",
   "execution_count": 43,
   "id": "7796df3e",
   "metadata": {},
   "outputs": [],
   "source": [
    "x = np.array([1.0, 0.5])"
   ]
  },
  {
   "cell_type": "code",
   "execution_count": 44,
   "id": "18694d31",
   "metadata": {},
   "outputs": [],
   "source": [
    "y = forward(network, x)"
   ]
  },
  {
   "cell_type": "code",
   "execution_count": 45,
   "id": "6d4cff6d",
   "metadata": {},
   "outputs": [
    {
     "name": "stdout",
     "output_type": "stream",
     "text": [
      "[0.31682708 0.69627909]\n"
     ]
    }
   ],
   "source": [
    "print(y)"
   ]
  },
  {
   "cell_type": "code",
   "execution_count": null,
   "id": "45645cf2",
   "metadata": {},
   "outputs": [],
   "source": []
  }
 ],
 "metadata": {
  "kernelspec": {
   "display_name": "Python 3 (ipykernel)",
   "language": "python",
   "name": "python3"
  },
  "language_info": {
   "codemirror_mode": {
    "name": "ipython",
    "version": 3
   },
   "file_extension": ".py",
   "mimetype": "text/x-python",
   "name": "python",
   "nbconvert_exporter": "python",
   "pygments_lexer": "ipython3",
   "version": "3.9.12"
  }
 },
 "nbformat": 4,
 "nbformat_minor": 5
}
